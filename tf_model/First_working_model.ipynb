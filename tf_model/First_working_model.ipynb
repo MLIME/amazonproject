{
 "cells": [
  {
   "cell_type": "markdown",
   "metadata": {},
   "source": [
    "# First working model: using  a CNN with the architecture conv-pull-conv-pull-fc having relu as the only nonlinearity"
   ]
  },
  {
   "cell_type": "code",
   "execution_count": 2,
   "metadata": {
    "collapsed": false
   },
   "outputs": [],
   "source": [
    "import os\n",
    "import numpy as np\n",
    "import pandas as pd\n",
    "import matplotlib.pyplot as plt\n",
    "import pickle\n",
    "from Config import Config\n",
    "from CNN import CNNModel, train_model, check_valid, test_prediction\n",
    "from DataHolder import DataHolder\n",
    "from Config import Config\n",
    "from JpgTransformer import JpgTransformer\n",
    "from util import randomize_in_place, plot9images\n",
    "import matplotlib.pyplot as plt\n",
    "import shutil\n",
    "%matplotlib inline"
   ]
  },
  {
   "cell_type": "markdown",
   "metadata": {},
   "source": [
    "## We will use the jpg dataset with images of size 28x28 "
   ]
  },
  {
   "cell_type": "code",
   "execution_count": 3,
   "metadata": {
    "collapsed": false
   },
   "outputs": [],
   "source": [
    "transformer = JpgTransformer(image_base_size=28)\n",
    "file_name = transformer.file_name \n",
    "    \n",
    "with open(file_name, 'rb') as s:\n",
    "    d = pickle.load(s)\n",
    "    pass\n",
    "X_train = d['X_train'] \n",
    "y_train = d['y_train'] \n",
    "X_test = d['X_test']\n",
    "del d"
   ]
  },
  {
   "cell_type": "markdown",
   "metadata": {
    "collapsed": false
   },
   "source": [
    "## Printing some examples"
   ]
  },
  {
   "cell_type": "code",
   "execution_count": 5,
   "metadata": {
    "collapsed": false
   },
   "outputs": [
    {
     "data": {
      "image/png": "[encoded data removed]",
      "text/plain": [
       "<matplotlib.figure.Figure at 0x7f51c64ec3c8>"
      ]
     },
     "metadata": {},
     "output_type": "display_data"
    }
   ],
   "source": [
    "examples = X_train[0:5]\n",
    "example_cls = [\"haze primary\",\n",
    "               \"agriculture clear primary water\",\n",
    "               \"clear primary\",\n",
    "               \"clear primary\",\n",
    "               \"haze primary water\"]\n",
    "tuples = list(zip(examples,example_cls))\n",
    "fig = plt.figure()\n",
    "fig.set_size_inches(16, 4)\n",
    "for i, (x, c) in enumerate((tuples) ):\n",
    "    a = fig.add_subplot(1, 5, i+1)\n",
    "    a.set_title(c)\n",
    "    plt.imshow(x)"
   ]
  },
  {
   "cell_type": "markdown",
   "metadata": {},
   "source": [
    "## The images are normalized "
   ]
  },
  {
   "cell_type": "code",
   "execution_count": 6,
   "metadata": {
    "collapsed": false
   },
   "outputs": [
    {
     "name": "stdout",
     "output_type": "stream",
     "text": [
      "mean =  0.601309\n",
      "std =  0.0314707\n",
      "mean =  0.728718\n",
      "std =  0.0649978\n",
      "mean =  0.786565\n",
      "std =  0.0536803\n",
      "mean =  0.591128\n",
      "std =  0.075854\n",
      "mean =  0.496025\n",
      "std =  0.192415\n"
     ]
    }
   ],
   "source": [
    "for image in examples:\n",
    "    print(\"mean = \", np.mean(image))\n",
    "    print(\"std = \", np.std(image))"
   ]
  },
  {
   "cell_type": "markdown",
   "metadata": {},
   "source": [
    "## Spliting the data in train and valid datasets"
   ]
  },
  {
   "cell_type": "code",
   "execution_count": 7,
   "metadata": {
    "collapsed": false
   },
   "outputs": [
    {
     "name": "stdout",
     "output_type": "stream",
     "text": [
      "image shape train =  (40000, 28, 28, 3)\n",
      "label shape train =  (40000, 17)\n",
      "image shape valid =  (479, 28, 28, 3)\n",
      "label shape valid =  (479, 17)\n"
     ]
    }
   ],
   "source": [
    "randomize_in_place(X_train,y_train,0)\n",
    "X_valid, y_valid = X_train[40000: 40479], y_train[40000: 40479]\n",
    "X_train, y_train = X_train[0:40000], y_train[0:40000]\n",
    "print(\"image shape train = \", X_train.shape)\n",
    "print(\"label shape train = \", y_train.shape)\n",
    "print(\"image shape valid = \", X_valid.shape)\n",
    "print(\"label shape valid = \", y_valid.shape)"
   ]
  },
  {
   "cell_type": "markdown",
   "metadata": {},
   "source": [
    "## A very small trainig "
   ]
  },
  {
   "cell_type": "code",
   "execution_count": 8,
   "metadata": {
    "collapsed": false,
    "scrolled": true
   },
   "outputs": [
    {
     "name": "stdout",
     "output_type": "stream",
     "text": [
      "Start training\n",
      "step  batch_F2  valid_F2  elapsed_time\n",
      "  0   0.41        0.41*    0.20(s)\n",
      "  5   0.39        0.37    0.18(s)\n",
      " 10   0.62        0.61*    0.18(s)\n",
      "\n",
      "&&&&&&&&& #training steps = 11 &&&&&&&&&&&\n",
      "training time: 0:0:0:21 (DAYS:HOURS:MIN:SEC)\n",
      "\n",
      "&&&&&&&&& For TensorBoard visualization type &&&&&&&&&&&\n",
      "\n",
      "tensorboard  --logdir=logs/22-05-2017_11-23-14\n",
      "\n"
     ]
    }
   ],
   "source": [
    "lr = 0.0928467676\n",
    "my_dataholder = DataHolder(X_train,\n",
    "                       y_train,\n",
    "                       X_valid, \n",
    "                       y_valid,\n",
    "                       X_test)\n",
    "my_config = Config(batch_size=120,\n",
    "                   learning_rate=lr,\n",
    "                   image_size=28)\n",
    "my_model = CNNModel(my_config, my_dataholder)\n",
    "train_model(my_model, my_dataholder, 11, 5)"
   ]
  },
  {
   "cell_type": "markdown",
   "metadata": {},
   "source": [
    "## Creating one submission"
   ]
  },
  {
   "cell_type": "code",
   "execution_count": null,
   "metadata": {
    "collapsed": false
   },
   "outputs": [],
   "source": [
    "test_pred = test_prediction(my_model)\n",
    "test_pred.shape"
   ]
  },
  {
   "cell_type": "code",
   "execution_count": null,
   "metadata": {
    "collapsed": true
   },
   "outputs": [],
   "source": [
    "create_submission(test_pred)\n",
    "submission_data = pd.read_csv('submission.csv')\n",
    "submission_data.head()"
   ]
  },
  {
   "cell_type": "markdown",
   "metadata": {},
   "source": [
    "## A small training with different learning rates"
   ]
  },
  {
   "cell_type": "code",
   "execution_count": 7,
   "metadata": {
    "collapsed": false
   },
   "outputs": [
    {
     "name": "stdout",
     "output_type": "stream",
     "text": [
      "\n",
      "=============== (1 of 4) ===============\n",
      "  learning rate = 0.000415769225\n",
      "=========================================\n",
      "\n",
      "Start training\n",
      "step  batch_F2  valid_F2  elapsed_time\n",
      "  0   0.39        0.38*    0.37(s)\n",
      "100   0.60        0.60*    0.35(s)\n",
      "200   0.58        0.61*    0.33(s)\n",
      "300   0.59        0.61    0.34(s)\n",
      "\n",
      "&&&&&&&&& #training steps = 301 &&&&&&&&&&&\n",
      "training time: 0:0:1:45 (DAYS:HOURS:MIN:SEC)\n",
      "\n",
      "&&&&&&&&& For TensorBoard visualization type &&&&&&&&&&&\n",
      "\n",
      "tensorboard  --logdir=./logs/0.000415769225\n",
      "\n",
      "check_valid =  0.6114659604299736\n",
      "\n",
      "=============== (2 of 4) ===============\n",
      "  learning rate = 0.0511853368\n",
      "=========================================\n",
      "\n",
      "Start training\n",
      "step  batch_F2  valid_F2  elapsed_time\n",
      "  0   0.53        0.54*    0.61(s)\n",
      "100   0.61        0.61*    0.35(s)\n",
      "200   0.57        0.61    0.34(s)\n",
      "300   0.59        0.61*    0.35(s)\n",
      "\n",
      "&&&&&&&&& #training steps = 301 &&&&&&&&&&&\n",
      "training time: 0:0:1:49 (DAYS:HOURS:MIN:SEC)\n",
      "\n",
      "&&&&&&&&& For TensorBoard visualization type &&&&&&&&&&&\n",
      "\n",
      "tensorboard  --logdir=./logs/0.0511853368\n",
      "\n",
      "check_valid =  0.6097751405371642\n",
      "\n",
      "=============== (3 of 4) ===============\n",
      "  learning rate = 0.0928467676\n",
      "=========================================\n",
      "\n",
      "Start training\n",
      "step  batch_F2  valid_F2  elapsed_time\n",
      "  0   0.61        0.63*    0.39(s)\n",
      "100   0.61        0.61    0.34(s)\n",
      "200   0.57        0.61    0.37(s)\n",
      "300   0.59        0.61    0.34(s)\n",
      "\n",
      "&&&&&&&&& #training steps = 301 &&&&&&&&&&&\n",
      "training time: 0:0:1:49 (DAYS:HOURS:MIN:SEC)\n",
      "\n",
      "&&&&&&&&& For TensorBoard visualization type &&&&&&&&&&&\n",
      "\n",
      "tensorboard  --logdir=./logs/0.0928467676\n",
      "\n",
      "check_valid =  0.6314432989690721\n",
      "\n",
      "=============== (4 of 4) ===============\n",
      "  learning rate = 0.536553748\n",
      "=========================================\n",
      "\n",
      "Start training\n",
      "step  batch_F2  valid_F2  elapsed_time\n",
      "  0   0.57        0.59*    0.37(s)\n",
      "100   0.61        0.61*    0.35(s)\n",
      "200   0.57        0.61    0.38(s)\n",
      "300   0.59        0.61    0.38(s)\n",
      "\n",
      "&&&&&&&&& #training steps = 301 &&&&&&&&&&&\n",
      "training time: 0:0:1:54 (DAYS:HOURS:MIN:SEC)\n",
      "\n",
      "&&&&&&&&& For TensorBoard visualization type &&&&&&&&&&&\n",
      "\n",
      "tensorboard  --logdir=./logs/0.536553748\n",
      "\n",
      "check_valid =  0.6095847642834843\n"
     ]
    }
   ],
   "source": [
    "shutil.rmtree(\"./logs\")\n",
    "number_of_exp = 4\n",
    "LR = [4.15769225e-04, 5.11853368e-02, 9.28467676e-02, 5.36553748e-01]\n",
    "my_dataholder = DataHolder(X_train,\n",
    "                       y_train,\n",
    "                       X_valid, \n",
    "                       y_valid,\n",
    "                       X_valid, \n",
    "                       y_valid)\n",
    "for i, lr in enumerate(LR):\n",
    "    log_path = './logs/' + str(lr)\n",
    "    header1 = \"\\n=============== ({0} of {1}) ===============\\n\".format(i + 1, number_of_exp)\n",
    "    header2 = \"  learning rate = {}\".format(lr)\n",
    "    header3 = \"\\n=========================================\\n\"\n",
    "    print(header1 + header2 + header3)\n",
    "    my_config = Config(log_path=log_path,\n",
    "                       learning_rate=lr,\n",
    "                       image_size=28)\n",
    "    my_model = CNNModel(my_config, my_dataholder)\n",
    "    train_model(my_model, my_dataholder, 10001, 1000)\n",
    "    print(\"check_valid = \", check_valid(my_model))\n"
   ]
  },
  {
   "cell_type": "code",
   "execution_count": 8,
   "metadata": {
    "collapsed": false
   },
   "outputs": [],
   "source": [
    "# !tensorboard  --logdir=./logs/"
   ]
  },
  {
   "cell_type": "markdown",
   "metadata": {},
   "source": [
    "## Looking at the Loss function when using Adagrad with different learning rates:\n",
    "\n",
    "\n",
    "- orange: 0.000521100831039\n",
    "\n",
    "\n",
    "- light blue: 0.000936164462254\n",
    "\n",
    "\n",
    "- purple: 0.00800265995899\n",
    "\n",
    "\n",
    "- blue: 0.0090032433183\n",
    "\n",
    "\n",
    "- green: 0.0255160826922\n",
    "\n",
    "\n",
    "- yellow: 0.0478045161634\n",
    "\n",
    "\n",
    "\n",
    "\n",
    "\n",
    "![image](./pictures/loss.png)"
   ]
  }
 ],
 "metadata": {
  "kernelspec": {
   "display_name": "Python 3",
   "language": "python",
   "name": "python3"
  },
  "language_info": {
   "codemirror_mode": {
    "name": "ipython",
    "version": 3
   },
   "file_extension": ".py",
   "mimetype": "text/x-python",
   "name": "python",
   "nbconvert_exporter": "python",
   "pygments_lexer": "ipython3",
   "version": "3.5.2"
  }
 },
 "nbformat": 4,
 "nbformat_minor": 1
}
